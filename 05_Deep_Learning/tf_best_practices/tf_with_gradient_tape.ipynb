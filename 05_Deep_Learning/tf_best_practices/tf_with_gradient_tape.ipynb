{
 "cells": [
  {
   "cell_type": "code",
   "execution_count": 1,
   "metadata": {},
   "outputs": [],
   "source": [
    "import tensorflow as tf\n",
    "import matplotlib.pyplot as plt"
   ]
  },
  {
   "cell_type": "code",
   "execution_count": 2,
   "metadata": {},
   "outputs": [
    {
     "data": {
      "image/png": "[encoded data removed]",
      "text/plain": [
       "<Figure size 640x480 with 1 Axes>"
      ]
     },
     "metadata": {},
     "output_type": "display_data"
    }
   ],
   "source": [
    "(x_train, y_train),(x_test, y_test) = tf.keras.datasets.mnist.load_data()\n",
    "x_train, x_test = x_train/255.0, x_test/255.0\n",
    "plt.imshow(x_train[0])\n",
    "x_train = x_train.reshape(-1, 28*28)\n",
    "x_test = x_test.reshape(-1,28*28)\n",
    "\n",
    "y_train_onehot = tf.keras.utils.to_categorical(y_train, num_classes=10)\n",
    "y_test_onehot = tf.keras.utils.to_categorical(y_test, num_classes=10)"
   ]
  },
  {
   "cell_type": "code",
   "execution_count": 3,
   "metadata": {},
   "outputs": [
    {
     "data": {
      "text/plain": [
       "(60000, 784)"
      ]
     },
     "execution_count": 3,
     "metadata": {},
     "output_type": "execute_result"
    }
   ],
   "source": [
    "x_train.shape"
   ]
  },
  {
   "cell_type": "code",
   "execution_count": 4,
   "metadata": {},
   "outputs": [
    {
     "data": {
      "text/plain": [
       "array([0., 0., 0., 0., 0., 1., 0., 0., 0., 0.], dtype=float32)"
      ]
     },
     "execution_count": 4,
     "metadata": {},
     "output_type": "execute_result"
    }
   ],
   "source": [
    "y_train_onehot[0]"
   ]
  },
  {
   "cell_type": "code",
   "execution_count": 5,
   "metadata": {},
   "outputs": [],
   "source": [
    "class SimpleNet(tf.keras.Model):\n",
    "    def __init__(self):\n",
    "        super().__init__()\n",
    "        self.d1 = tf.keras.layers.Dense(128, activation='relu')\n",
    "\n",
    "        self.d2 = tf.keras.layers.Dense(10,activation='softmax')\n",
    "        \n",
    "    def call(self, x):\n",
    "        x = self.d1(x)\n",
    "        return self.d2(x)"
   ]
  },
  {
   "cell_type": "code",
   "execution_count": 6,
   "metadata": {},
   "outputs": [],
   "source": [
    "model = SimpleNet()\n",
    "optimizer = tf.keras.optimizers.Adam(learning_rate=0.001)\n",
    "loss_fn = tf.keras.losses.SparseCategoricalCrossentropy()\n",
    "model.compile(loss=loss_fn,\n",
    "              optimizer= optimizer,\n",
    "              metrics=['accuracy']\n",
    "              )\n"
   ]
  },
  {
   "cell_type": "code",
   "execution_count": 7,
   "metadata": {},
   "outputs": [
    {
     "name": "stdout",
     "output_type": "stream",
     "text": [
      "Number of batches:  {1875}\n"
     ]
    }
   ],
   "source": [
    "epochs=3\n",
    "batch_size= 32\n",
    "num_batches = len(x_train)//batch_size\n",
    "\n",
    "print(f\"Number of batches: \",{num_batches})"
   ]
  },
  {
   "cell_type": "code",
   "execution_count": 8,
   "metadata": {},
   "outputs": [
    {
     "data": {
      "text/plain": [
       "[]"
      ]
     },
     "execution_count": 8,
     "metadata": {},
     "output_type": "execute_result"
    }
   ],
   "source": [
    "model.trainable_variables"
   ]
  },
  {
   "cell_type": "code",
   "execution_count": 10,
   "metadata": {},
   "outputs": [
    {
     "name": "stdout",
     "output_type": "stream",
     "text": [
      "Epoch 1/10\n",
      "3750/3750 [==============================] - 6s 1ms/step - loss: 0.0731 - accuracy: 0.9770 - val_loss: 0.0850 - val_accuracy: 0.9738\n",
      "Epoch 2/10\n",
      "3750/3750 [==============================] - 5s 1ms/step - loss: 0.0517 - accuracy: 0.9840 - val_loss: 0.0769 - val_accuracy: 0.9772\n",
      "Epoch 3/10\n",
      "3750/3750 [==============================] - 5s 1ms/step - loss: 0.0407 - accuracy: 0.9868 - val_loss: 0.0762 - val_accuracy: 0.9770\n",
      "Epoch 4/10\n",
      "3750/3750 [==============================] - 5s 1ms/step - loss: 0.0328 - accuracy: 0.9894 - val_loss: 0.0897 - val_accuracy: 0.9761\n",
      "Epoch 5/10\n",
      "3750/3750 [==============================] - 5s 1ms/step - loss: 0.0271 - accuracy: 0.9913 - val_loss: 0.0893 - val_accuracy: 0.9752\n",
      "Epoch 6/10\n",
      "3750/3750 [==============================] - 5s 1ms/step - loss: 0.0217 - accuracy: 0.9926 - val_loss: 0.0830 - val_accuracy: 0.9787\n",
      "Epoch 7/10\n",
      "3750/3750 [==============================] - 5s 1ms/step - loss: 0.0186 - accuracy: 0.9936 - val_loss: 0.1087 - val_accuracy: 0.9726\n",
      "Epoch 8/10\n",
      "3750/3750 [==============================] - 5s 1ms/step - loss: 0.0153 - accuracy: 0.9949 - val_loss: 0.1151 - val_accuracy: 0.9749\n",
      "Epoch 9/10\n",
      "3750/3750 [==============================] - 5s 1ms/step - loss: 0.0142 - accuracy: 0.9953 - val_loss: 0.1137 - val_accuracy: 0.9742\n",
      "Epoch 10/10\n",
      "3750/3750 [==============================] - 5s 1ms/step - loss: 0.0115 - accuracy: 0.9962 - val_loss: 0.1016 - val_accuracy: 0.9772\n"
     ]
    }
   ],
   "source": [
    "history = model.fit(\n",
    "    x=x_train,\n",
    "    y =y_train,\n",
    "    validation_data =(x_test,y_test),\n",
    "    batch_size=16,\n",
    "    epochs=10,\n",
    "    verbose=1\n",
    ")"
   ]
  },
  {
   "cell_type": "code",
   "execution_count": 11,
   "metadata": {},
   "outputs": [
    {
     "data": {
      "text/plain": [
       "[<tf.Variable 'simple_net/dense/kernel:0' shape=(784, 128) dtype=float32, numpy=\n",
       " array([[ 0.03728472, -0.0589629 ,  0.02766305, ..., -0.05305646,\n",
       "         -0.05021644, -0.03284643],\n",
       "        [-0.00606037, -0.01080129,  0.00252075, ..., -0.05744233,\n",
       "         -0.02497311, -0.06439161],\n",
       "        [ 0.04628057,  0.07859526, -0.0087366 , ...,  0.06145602,\n",
       "         -0.02099637,  0.04161795],\n",
       "        ...,\n",
       "        [ 0.07280856,  0.00471833,  0.06993388, ...,  0.07000952,\n",
       "          0.04938518, -0.07819042],\n",
       "        [ 0.00238161,  0.06835055, -0.07158491, ...,  0.03958157,\n",
       "         -0.06148945, -0.06136915],\n",
       "        [-0.04631355, -0.07385614,  0.01471099, ...,  0.07657538,\n",
       "          0.0272906 , -0.01200446]], dtype=float32)>,\n",
       " <tf.Variable 'simple_net/dense/bias:0' shape=(128,) dtype=float32, numpy=\n",
       " array([ 8.5551046e-02, -9.0370990e-02, -1.1866282e-01,  3.3326367e-01,\n",
       "         3.4819573e-02, -7.7606231e-02,  6.9446139e-02, -8.7820664e-02,\n",
       "         1.8224461e-01,  9.9748887e-02, -1.5234049e-01, -7.2291598e-02,\n",
       "         1.5967605e-01, -7.6615401e-02, -2.2004377e-02, -6.3276976e-02,\n",
       "         1.1808492e-01, -8.3213545e-02, -9.9172421e-02, -2.4912916e-02,\n",
       "         1.7608525e-01,  2.9222306e-02,  1.2628339e-01, -1.0345359e-01,\n",
       "         8.7869607e-02, -3.2194561e-01, -3.6375489e-02, -2.6169267e-01,\n",
       "        -3.0221889e-02, -1.9737585e-01, -4.1492380e-02, -2.3985060e-01,\n",
       "         1.7138263e-02,  1.2895446e-01, -1.7162135e-01,  1.1472530e-01,\n",
       "         3.1569248e-01, -1.5499419e-02, -7.3834375e-02,  7.2743028e-02,\n",
       "        -1.1765143e-01, -1.4403880e-01, -9.1571100e-02,  1.5798175e-01,\n",
       "        -8.4839836e-02,  8.9011326e-02, -1.2169415e-01,  1.3497461e-01,\n",
       "        -1.5765706e-01, -9.0840042e-02, -1.0984363e-01,  1.4642444e-01,\n",
       "         2.2747900e-02, -2.1785578e-01, -2.4488816e-02, -1.4397903e-01,\n",
       "        -2.1065474e-01, -8.7586403e-02,  1.2949987e-01, -1.1034909e-01,\n",
       "        -8.7449148e-02, -4.2292502e-02, -7.0106484e-02,  1.6534232e-02,\n",
       "         1.3560899e-01, -6.1735488e-02,  2.4089618e-01,  1.4878593e-01,\n",
       "        -8.1404962e-02,  1.9106796e-01,  1.8425836e-01,  3.1416431e-02,\n",
       "        -2.6377362e-01, -2.4668698e-01, -8.4188789e-02,  3.8711613e-01,\n",
       "         1.9683328e-01,  4.4801548e-02,  3.0824229e-01,  8.5050352e-02,\n",
       "         1.0662095e-02,  8.9326456e-02,  8.2276203e-02,  5.4312885e-02,\n",
       "         1.3838764e-01,  8.5326180e-02, -2.3571461e-02, -1.1409781e-02,\n",
       "         1.6691878e-01, -1.1673999e-01,  1.9946343e-01,  2.6664767e-01,\n",
       "        -1.4017551e-01, -1.2696694e-01, -1.8131588e-01, -1.9245915e-01,\n",
       "         2.7026853e-01, -1.3946131e-01,  9.6216843e-02, -4.4116952e-02,\n",
       "        -2.1791473e-02, -3.3333544e-03,  5.2011694e-04, -1.8941025e-01,\n",
       "         1.1431823e-01,  7.8101717e-02, -1.8296362e-01, -3.6464934e-03,\n",
       "        -1.4664166e-01, -7.2184563e-02, -1.4085792e-01,  3.4289714e-02,\n",
       "         1.5162815e-01, -4.5146212e-02,  6.5145947e-02,  8.9307047e-02,\n",
       "         2.0482583e-04,  2.7271685e-01,  1.0804090e-01, -1.5549781e-02,\n",
       "        -5.5709720e-02,  9.7660899e-02, -8.8215053e-02,  1.2178273e-01,\n",
       "         1.7129263e-02,  5.5930197e-02,  4.8492283e-02,  1.4585099e-01],\n",
       "       dtype=float32)>,\n",
       " <tf.Variable 'simple_net/dense_1/kernel:0' shape=(128, 10) dtype=float32, numpy=\n",
       " array([[-0.49116746,  0.2586199 ,  0.26543018, ...,  0.42208874,\n",
       "          0.24762693, -0.82518107],\n",
       "        [ 0.1260281 , -0.43999436, -0.13242215, ..., -0.00236124,\n",
       "          0.16795221,  0.12107788],\n",
       "        [-0.3184134 ,  0.23408999,  0.3633087 , ..., -0.256137  ,\n",
       "         -0.0340878 , -0.28109366],\n",
       "        ...,\n",
       "        [ 0.09424546,  0.3127301 , -0.01280409, ..., -0.9032365 ,\n",
       "         -0.06788899, -0.7363656 ],\n",
       "        [ 0.11669382, -0.581647  ,  0.20843568, ...,  0.14113365,\n",
       "          0.15340453,  0.11429572],\n",
       "        [-1.0504413 , -0.23100768,  0.5344234 , ...,  0.16255897,\n",
       "          0.39335266, -0.17786027]], dtype=float32)>,\n",
       " <tf.Variable 'simple_net/dense_1/bias:0' shape=(10,) dtype=float32, numpy=\n",
       " array([-0.17157651, -0.15979089, -0.03211014, -0.19396251,  0.12176253,\n",
       "        -0.00492577, -0.07784417, -0.20897648,  0.5174287 ,  0.01001548],\n",
       "       dtype=float32)>]"
      ]
     },
     "execution_count": 11,
     "metadata": {},
     "output_type": "execute_result"
    }
   ],
   "source": [
    "model.trainable_variables"
   ]
  },
  {
   "cell_type": "code",
   "execution_count": 12,
   "metadata": {},
   "outputs": [
    {
     "name": "stdout",
     "output_type": "stream",
     "text": [
      "Model: \"simple_net\"\n",
      "_________________________________________________________________\n",
      " Layer (type)                Output Shape              Param #   \n",
      "=================================================================\n",
      " dense (Dense)               multiple                  100480    \n",
      "                                                                 \n",
      " dense_1 (Dense)             multiple                  1290      \n",
      "                                                                 \n",
      "=================================================================\n",
      "Total params: 101,770\n",
      "Trainable params: 101,770\n",
      "Non-trainable params: 0\n",
      "_________________________________________________________________\n"
     ]
    }
   ],
   "source": [
    "model.summary()"
   ]
  },
  {
   "cell_type": "code",
   "execution_count": 14,
   "metadata": {},
   "outputs": [
    {
     "name": "stdout",
     "output_type": "stream",
     "text": [
      "Batch 0/1875, Loss: 0.0003\n",
      "Batch 200/1875, Loss: 0.0002\n",
      "Batch 400/1875, Loss: 0.0005\n",
      "Batch 600/1875, Loss: 0.0026\n",
      "Batch 800/1875, Loss: 0.0010\n",
      "Batch 1000/1875, Loss: 0.0016\n",
      "Batch 1200/1875, Loss: 0.0005\n",
      "Batch 1400/1875, Loss: 0.0017\n",
      "Batch 1600/1875, Loss: 0.0014\n",
      "Batch 1800/1875, Loss: 0.0001\n",
      "Batch 0/1875, Loss: 0.0043\n",
      "Batch 200/1875, Loss: 0.0013\n",
      "Batch 400/1875, Loss: 0.0004\n",
      "Batch 600/1875, Loss: 0.0170\n",
      "Batch 800/1875, Loss: 0.0037\n",
      "Batch 1000/1875, Loss: 0.0147\n",
      "Batch 1200/1875, Loss: 0.0010\n",
      "Batch 1400/1875, Loss: 0.0008\n",
      "Batch 1600/1875, Loss: 0.0014\n",
      "Batch 1800/1875, Loss: 0.0005\n",
      "Batch 0/1875, Loss: 0.0009\n",
      "Batch 200/1875, Loss: 0.0007\n",
      "Batch 400/1875, Loss: 0.0021\n",
      "Batch 600/1875, Loss: 0.0011\n",
      "Batch 800/1875, Loss: 0.0021\n",
      "Batch 1000/1875, Loss: 0.0016\n",
      "Batch 1200/1875, Loss: 0.0003\n",
      "Batch 1400/1875, Loss: 0.0434\n",
      "Batch 1600/1875, Loss: 0.0040\n",
      "Batch 1800/1875, Loss: 0.0003\n"
     ]
    }
   ],
   "source": [
    "for epoch in range(epochs):\n",
    "    for batch in range(num_batches):\n",
    "        start = batch* batch_size\n",
    "        end = start + batch_size\n",
    "        x_batch = x_train[start:end]\n",
    "        y_batch = y_train[start:end]\n",
    "        \n",
    "        with tf.GradientTape() as tape:\n",
    "            predictions = model(x_batch, training=True)\n",
    "            loss = loss_fn(y_batch, predictions)\n",
    "        gradients= tape.gradient(loss, model.trainable_variables)\n",
    "        optimizer.apply_gradients(zip(gradients, model.trainable_variables))\n",
    "        \n",
    "        if batch%200 ==0:\n",
    "            print(f\"Batch {batch}/{num_batches}, Loss: {loss:.4f}\")\n"
   ]
  },
  {
   "cell_type": "code",
   "execution_count": 15,
   "metadata": {},
   "outputs": [
    {
     "name": "stdout",
     "output_type": "stream",
     "text": [
      "Test Loss: 0.1201, Test Accuracy: 0.9764\n"
     ]
    }
   ],
   "source": [
    "test_loss = loss_fn(y_test,model(x_test))\n",
    "test_accuracy = tf.keras.metrics.categorical_accuracy(y_test_onehot, model(x_test))\n",
    "print(f\"Test Loss: {test_loss.numpy():.4f}, Test Accuracy: {tf.reduce_mean(test_accuracy).numpy():.4f}\")\n"
   ]
  },
  {
   "cell_type": "code",
   "execution_count": null,
   "metadata": {},
   "outputs": [],
   "source": []
  }
 ],
 "metadata": {
  "kernelspec": {
   "display_name": "ml_prod",
   "language": "python",
   "name": "python3"
  },
  "language_info": {
   "codemirror_mode": {
    "name": "ipython",
    "version": 3
   },
   "file_extension": ".py",
   "mimetype": "text/x-python",
   "name": "python",
   "nbconvert_exporter": "python",
   "pygments_lexer": "ipython3",
   "version": "3.10.14"
  }
 },
 "nbformat": 4,
 "nbformat_minor": 2
}
